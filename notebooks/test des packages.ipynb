{
 "cells": [
  {
   "cell_type": "code",
   "execution_count": 5,
   "id": "8492fe5b-7965-41c7-b2cd-c3877d71ad5f",
   "metadata": {},
   "outputs": [
    {
     "name": "stdout",
     "output_type": "stream",
     "text": [
      "TensorFlow version: 2.17.0\n",
      "TensorFlow Hub version: 0.16.1\n",
      "PyTorch version: 2.4.0+cu118\n",
      "Torchaudio version: 2.4.0+cu118\n",
      "CUDA Available (PyTorch): True\n",
      "GPUs Available (TensorFlow): [PhysicalDevice(name='/physical_device:GPU:0', device_type='GPU')]\n"
     ]
    }
   ],
   "source": [
    "import tensorflow as tf\n",
    "import tensorflow_hub as hub\n",
    "import torch\n",
    "import torchaudio\n",
    "\n",
    "print(f\"TensorFlow version: {tf.__version__}\")\n",
    "print(f\"TensorFlow Hub version: {hub.__version__}\")\n",
    "print(f\"PyTorch version: {torch.__version__}\")\n",
    "print(f\"Torchaudio version: {torchaudio.__version__}\")\n",
    "print(\"CUDA Available (PyTorch):\", torch.cuda.is_available())\n",
    "print(\"GPUs Available (TensorFlow):\", tf.config.list_physical_devices('GPU'))\n"
   ]
  },
  {
   "cell_type": "code",
   "execution_count": 2,
   "id": "091de82b-12a9-461d-a429-155f62990a29",
   "metadata": {},
   "outputs": [
    {
     "name": "stdout",
     "output_type": "stream",
     "text": [
      "['/home/mf/miniconda3/envs/AI/lib/python310.zip', '/home/mf/miniconda3/envs/AI/lib/python3.10', '/home/mf/miniconda3/envs/AI/lib/python3.10/lib-dynload', '', '/home/mf/miniconda3/envs/AI/lib/python3.10/site-packages', '/home/mf/miniconda3/envs/AI/lib/python3.10/site-packages/setuptools/_vendor']\n"
     ]
    }
   ],
   "source": [
    "import sys\n",
    "print(sys.path)\n"
   ]
  },
  {
   "cell_type": "code",
   "execution_count": 3,
   "id": "b30ac23d-3a48-47cd-b737-8f101f624d96",
   "metadata": {
    "scrolled": true
   },
   "outputs": [
    {
     "name": "stdout",
     "output_type": "stream",
     "text": [
      "pandas version: 2.2.2\n",
      "tensorflow version: 2.17.0\n",
      "tensorflow_hub version: 0.16.1\n",
      "torch version: 2.4.0+cu118\n",
      "mlflow version: 2.15.1\n",
      "numpy version: 1.23.5\n",
      "scikit-learn version: 1.5.1\n",
      "tqdm version: 4.66.5\n"
     ]
    }
   ],
   "source": [
    "import pandas as pd\n",
    "import tensorflow as tf\n",
    "import tensorflow_hub as hub\n",
    "import torch\n",
    "import mlflow\n",
    "import numpy as np\n",
    "import sklearn\n",
    "import tqdm\n",
    "\n",
    "# Afficher les versions des packages\n",
    "print(f\"pandas version: {pd.__version__}\")\n",
    "print(f\"tensorflow version: {tf.__version__}\")\n",
    "print(f\"tensorflow_hub version: {hub.__version__}\")\n",
    "print(f\"torch version: {torch.__version__}\")\n",
    "print(f\"mlflow version: {mlflow.__version__}\")\n",
    "print(f\"numpy version: {np.__version__}\")\n",
    "print(f\"scikit-learn version: {sklearn.__version__}\")\n",
    "print(f\"tqdm version: {tqdm.__version__}\")\n",
    "\n",
    "\n"
   ]
  },
  {
   "cell_type": "code",
   "execution_count": 2,
   "id": "db7ebc11-d91a-4247-8898-07b9c58a70a7",
   "metadata": {},
   "outputs": [
    {
     "ename": "ImportError",
     "evalue": "/home/mf/miniconda3/envs/AI/bin/../lib/libcudnn.so.9: version `libcudnn.so.9' not found (required by /home/mf/miniconda3/envs/AI/lib/python3.10/site-packages/torch/lib/libtorch_python.so)",
     "output_type": "error",
     "traceback": [
      "\u001b[0;31m---------------------------------------------------------------------------\u001b[0m",
      "\u001b[0;31mImportError\u001b[0m                               Traceback (most recent call last)",
      "Cell \u001b[0;32mIn[2], line 1\u001b[0m\n\u001b[0;32m----> 1\u001b[0m \u001b[38;5;28;01mimport\u001b[39;00m \u001b[38;5;21;01mtorch\u001b[39;00m\n\u001b[1;32m      2\u001b[0m \u001b[38;5;28mprint\u001b[39m(\u001b[38;5;124m\"\u001b[39m\u001b[38;5;124mPyTorch Version:\u001b[39m\u001b[38;5;124m\"\u001b[39m, torch\u001b[38;5;241m.\u001b[39m__version__)\n\u001b[1;32m      3\u001b[0m \u001b[38;5;28mprint\u001b[39m(\u001b[38;5;124m\"\u001b[39m\u001b[38;5;124mCUDA Available:\u001b[39m\u001b[38;5;124m\"\u001b[39m, torch\u001b[38;5;241m.\u001b[39mcuda\u001b[38;5;241m.\u001b[39mis_available())\n",
      "File \u001b[0;32m~/miniconda3/envs/AI/lib/python3.10/site-packages/torch/__init__.py:290\u001b[0m\n\u001b[1;32m    288\u001b[0m     \u001b[38;5;28;01mif\u001b[39;00m USE_GLOBAL_DEPS:\n\u001b[1;32m    289\u001b[0m         _load_global_deps()\n\u001b[0;32m--> 290\u001b[0m     \u001b[38;5;28;01mfrom\u001b[39;00m \u001b[38;5;21;01mtorch\u001b[39;00m\u001b[38;5;21;01m.\u001b[39;00m\u001b[38;5;21;01m_C\u001b[39;00m \u001b[38;5;28;01mimport\u001b[39;00m \u001b[38;5;241m*\u001b[39m  \u001b[38;5;66;03m# noqa: F403\u001b[39;00m\n\u001b[1;32m    292\u001b[0m \u001b[38;5;66;03m# Appease the type checker; ordinarily this binding is inserted by the\u001b[39;00m\n\u001b[1;32m    293\u001b[0m \u001b[38;5;66;03m# torch._C module initialization code in C\u001b[39;00m\n\u001b[1;32m    294\u001b[0m \u001b[38;5;28;01mif\u001b[39;00m TYPE_CHECKING:\n",
      "\u001b[0;31mImportError\u001b[0m: /home/mf/miniconda3/envs/AI/bin/../lib/libcudnn.so.9: version `libcudnn.so.9' not found (required by /home/mf/miniconda3/envs/AI/lib/python3.10/site-packages/torch/lib/libtorch_python.so)"
     ]
    }
   ],
   "source": [
    "import torch\n",
    "print(\"PyTorch Version:\", torch.__version__)\n",
    "print(\"CUDA Available:\", torch.cuda.is_available())\n",
    "\n",
    "import tensorflow as tf\n",
    "print(\"GPUs Available:\", tf.config.list_physical_devices('GPU'))\n"
   ]
  },
  {
   "cell_type": "code",
   "execution_count": 4,
   "id": "dec0ccff-59cb-4d01-91ee-5bd887468bc9",
   "metadata": {},
   "outputs": [
    {
     "ename": "ImportError",
     "evalue": "cannot import name 'dummy_tensorflow_text_objects' from 'transformers.utils' (/home/mf/miniconda3/envs/AI/lib/python3.10/site-packages/transformers/utils/__init__.py)",
     "output_type": "error",
     "traceback": [
      "\u001b[0;31m---------------------------------------------------------------------------\u001b[0m",
      "\u001b[0;31mOptionalDependencyNotAvailable\u001b[0m            Traceback (most recent call last)",
      "File \u001b[0;32m~/miniconda3/envs/AI/lib/python3.10/site-packages/transformers/__init__.py:903\u001b[0m\n\u001b[1;32m    902\u001b[0m     \u001b[38;5;28;01mif\u001b[39;00m \u001b[38;5;129;01mnot\u001b[39;00m is_tensorflow_text_available():\n\u001b[0;32m--> 903\u001b[0m         \u001b[38;5;28;01mraise\u001b[39;00m OptionalDependencyNotAvailable()\n\u001b[1;32m    904\u001b[0m \u001b[38;5;28;01mexcept\u001b[39;00m OptionalDependencyNotAvailable:\n",
      "\u001b[0;31mOptionalDependencyNotAvailable\u001b[0m: ",
      "\nDuring handling of the above exception, another exception occurred:\n",
      "\u001b[0;31mImportError\u001b[0m                               Traceback (most recent call last)",
      "Cell \u001b[0;32mIn[4], line 3\u001b[0m\n\u001b[1;32m      1\u001b[0m \u001b[38;5;28;01mimport\u001b[39;00m \u001b[38;5;21;01mtorch\u001b[39;00m\n\u001b[1;32m      2\u001b[0m \u001b[38;5;28;01mimport\u001b[39;00m \u001b[38;5;21;01mtensorflow\u001b[39;00m \u001b[38;5;28;01mas\u001b[39;00m \u001b[38;5;21;01mtf\u001b[39;00m\n\u001b[0;32m----> 3\u001b[0m \u001b[38;5;28;01mimport\u001b[39;00m \u001b[38;5;21;01mtransformers\u001b[39;00m\n\u001b[1;32m      4\u001b[0m \u001b[38;5;28;01mimport\u001b[39;00m \u001b[38;5;21;01mspacy\u001b[39;00m\n\u001b[1;32m      5\u001b[0m \u001b[38;5;28;01mimport\u001b[39;00m \u001b[38;5;21;01mcv2\u001b[39;00m\n",
      "File \u001b[0;32m~/miniconda3/envs/AI/lib/python3.10/site-packages/transformers/__init__.py:905\u001b[0m\n\u001b[1;32m    903\u001b[0m         \u001b[38;5;28;01mraise\u001b[39;00m OptionalDependencyNotAvailable()\n\u001b[1;32m    904\u001b[0m \u001b[38;5;28;01mexcept\u001b[39;00m OptionalDependencyNotAvailable:\n\u001b[0;32m--> 905\u001b[0m     \u001b[38;5;28;01mfrom\u001b[39;00m \u001b[38;5;21;01m.\u001b[39;00m\u001b[38;5;21;01mutils\u001b[39;00m \u001b[38;5;28;01mimport\u001b[39;00m dummy_tensorflow_text_objects\n\u001b[1;32m    907\u001b[0m     _import_structure[\u001b[38;5;124m\"\u001b[39m\u001b[38;5;124mutils.dummy_tensorflow_text_objects\u001b[39m\u001b[38;5;124m\"\u001b[39m] \u001b[38;5;241m=\u001b[39m [\n\u001b[1;32m    908\u001b[0m         name \u001b[38;5;28;01mfor\u001b[39;00m name \u001b[38;5;129;01min\u001b[39;00m \u001b[38;5;28mdir\u001b[39m(dummy_tensorflow_text_objects) \u001b[38;5;28;01mif\u001b[39;00m \u001b[38;5;129;01mnot\u001b[39;00m name\u001b[38;5;241m.\u001b[39mstartswith(\u001b[38;5;124m\"\u001b[39m\u001b[38;5;124m_\u001b[39m\u001b[38;5;124m\"\u001b[39m)\n\u001b[1;32m    909\u001b[0m     ]\n\u001b[1;32m    910\u001b[0m \u001b[38;5;28;01melse\u001b[39;00m:\n",
      "\u001b[0;31mImportError\u001b[0m: cannot import name 'dummy_tensorflow_text_objects' from 'transformers.utils' (/home/mf/miniconda3/envs/AI/lib/python3.10/site-packages/transformers/utils/__init__.py)"
     ]
    }
   ],
   "source": [
    "import torch\n",
    "import tensorflow as tf\n",
    "import transformers\n",
    "import spacy\n",
    "import cv2\n",
    "def check_pytorch():\n",
    "    print(\"PyTorch Version:\", torch.__version__)\n",
    "    print(\"CUDA Version:\", torch.version.cuda)\n",
    "    print(\"cuDNN Version:\", torch.backends.cudnn.version())\n",
    "    print(\"CUDA Available:\", torch.cuda.is_available())\n",
    "\n",
    "def check_tensorflow():\n",
    "    print(\"TensorFlow Version:\", tf.__version__)\n",
    "    print(\"GPUs Available:\", tf.config.list_physical_devices('GPU'))\n",
    "\n",
    "def check_transformers_spacy():\n",
    "    print(\"Transformers Version:\", transformers.__version__)\n",
    "    print(\"spaCy Version:\", spacy.__version__)\n",
    "\n",
    "def check_opencv():\n",
    "    print(\"OpenCV Version:\", cv2.__version__)\n",
    "\n",
    "def main():\n",
    "    print(\"Checking PyTorch:\")\n",
    "    check_pytorch()\n",
    "    print(\"\\nChecking TensorFlow:\")\n",
    "    check_tensorflow()\n",
    "    print(\"\\nChecking NLP Libraries (Transformers & spaCy):\")\n",
    "    check_transformers_spacy()\n",
    "    print(\"\\nChecking OpenCV:\")\n",
    "    check_opencv()\n",
    "\n",
    "if __name__ == \"__main__\":\n",
    "    main()\n"
   ]
  },
  {
   "cell_type": "code",
   "execution_count": 2,
   "id": "c6413bf1-9561-450a-af39-cf4f834c3bee",
   "metadata": {},
   "outputs": [
    {
     "name": "stdout",
     "output_type": "stream",
     "text": [
      "Checking basic libraries:\n",
      "pandas: OK\n",
      "numpy: OK\n",
      "matplotlib: OK\n",
      "seaborn: OK\n",
      "plotly: OK\n",
      "altair: OK\n",
      "scikit-learn: NOT INSTALLED\n",
      "xgboost: OK\n",
      "lightgbm: OK\n",
      "catboost: OK\n",
      "nltk: OK\n",
      "statsmodels: OK\n",
      "scipy: OK\n",
      "category_encoders: OK\n",
      "imbalanced-learn: NOT INSTALLED\n",
      "optuna: OK\n",
      "hyperopt: OK\n",
      "pandarallel: OK\n",
      "\n",
      "Checking PyTorch:\n",
      "PyTorch Version: 2.4.0+cu118\n",
      "CUDA Version: 11.8\n",
      "cuDNN Version: 90100\n",
      "CUDA Available: True\n",
      "\n",
      "Checking TensorFlow:\n",
      "TensorFlow Version: 2.8.1\n",
      "GPUs Available: []\n",
      "\n",
      "Checking NLP Libraries (Transformers & spaCy):\n",
      "Transformers: NOT INSTALLED\n",
      "spaCy: NOT INSTALLED\n",
      "\n",
      "Checking OpenCV:\n",
      "OpenCV Version: 4.6.0\n"
     ]
    }
   ],
   "source": [
    "import importlib\n",
    "\n",
    "def check_import(library):\n",
    "    try:\n",
    "        importlib.import_module(library)\n",
    "        print(f\"{library}: OK\")\n",
    "    except ImportError:\n",
    "        print(f\"{library}: NOT INSTALLED\")\n",
    "\n",
    "def check_pytorch():\n",
    "    try:\n",
    "        import torch\n",
    "        print(f\"PyTorch Version: {torch.__version__}\")\n",
    "        print(f\"CUDA Version: {torch.version.cuda}\")\n",
    "        print(f\"cuDNN Version: {torch.backends.cudnn.version()}\")\n",
    "        print(f\"CUDA Available: {torch.cuda.is_available()}\")\n",
    "    except ImportError:\n",
    "        print(\"PyTorch: NOT INSTALLED\")\n",
    "\n",
    "def check_tensorflow():\n",
    "    try:\n",
    "        import tensorflow as tf\n",
    "        print(f\"TensorFlow Version: {tf.__version__}\")\n",
    "        print(f\"GPUs Available: {tf.config.list_physical_devices('GPU')}\")\n",
    "    except ImportError:\n",
    "        print(\"TensorFlow: NOT INSTALLED\")\n",
    "\n",
    "def check_transformers_spacy():\n",
    "    try:\n",
    "        import transformers\n",
    "        print(f\"Transformers Version: {transformers.__version__}\")\n",
    "    except ImportError:\n",
    "        print(\"Transformers: NOT INSTALLED\")\n",
    "\n",
    "    try:\n",
    "        import spacy\n",
    "        print(f\"spaCy Version: {spacy.__version__}\")\n",
    "    except ImportError:\n",
    "        print(\"spaCy: NOT INSTALLED\")\n",
    "\n",
    "def check_opencv():\n",
    "    try:\n",
    "        import cv2\n",
    "        print(f\"OpenCV Version: {cv2.__version__}\")\n",
    "    except ImportError:\n",
    "        print(\"OpenCV: NOT INSTALLED\")\n",
    "\n",
    "def main():\n",
    "    libraries = [\n",
    "        'pandas', 'numpy', 'matplotlib', 'seaborn', 'plotly', 'altair',\n",
    "        'scikit-learn', 'xgboost', 'lightgbm', 'catboost', 'nltk', 'statsmodels', \n",
    "        'scipy', 'category_encoders', 'imbalanced-learn', 'optuna', 'hyperopt', 'pandarallel'\n",
    "    ]\n",
    "\n",
    "    print(\"Checking basic libraries:\")\n",
    "    for lib in libraries:\n",
    "        check_import(lib)\n",
    "    \n",
    "    print(\"\\nChecking PyTorch:\")\n",
    "    check_pytorch()\n",
    "\n",
    "    print(\"\\nChecking TensorFlow:\")\n",
    "    check_tensorflow()\n",
    "\n",
    "    print(\"\\nChecking NLP Libraries (Transformers & spaCy):\")\n",
    "    check_transformers_spacy()\n",
    "\n",
    "    print(\"\\nChecking OpenCV:\")\n",
    "    check_opencv()\n",
    "\n",
    "if __name__ == \"__main__\":\n",
    "    main()\n"
   ]
  },
  {
   "cell_type": "code",
   "execution_count": null,
   "id": "4fe24e74-63ba-4586-9f93-3ef713ae882f",
   "metadata": {},
   "outputs": [],
   "source": []
  },
  {
   "cell_type": "code",
   "execution_count": null,
   "id": "da26fe73-9f58-499d-afac-c32936931524",
   "metadata": {},
   "outputs": [],
   "source": []
  }
 ],
 "metadata": {
  "kernelspec": {
   "display_name": "Python 3 (ipykernel)",
   "language": "python",
   "name": "python3"
  },
  "language_info": {
   "codemirror_mode": {
    "name": "ipython",
    "version": 3
   },
   "file_extension": ".py",
   "mimetype": "text/x-python",
   "name": "python",
   "nbconvert_exporter": "python",
   "pygments_lexer": "ipython3",
   "version": "3.10.8"
  }
 },
 "nbformat": 4,
 "nbformat_minor": 5
}
